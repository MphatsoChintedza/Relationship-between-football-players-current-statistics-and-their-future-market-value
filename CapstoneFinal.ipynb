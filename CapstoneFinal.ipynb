{
 "cells": [
  {
   "cell_type": "markdown",
   "id": "5280318a",
   "metadata": {},
   "source": [
    "---\n",
    "\n",
    "\n",
    "<h1 style=\"text-align: center;\">\n",
    "    \n",
    "**EXPLORING RELATIONSHIP BETWEEN FOOTBALL PLAYERS CURRENT PERFORMANCE AND THEIR FUTURE MARKET VALUE .**\n",
    "\n",
    "</h1>\n",
    "\n",
    "---"
   ]
  },
  {
   "cell_type": "markdown",
   "id": "d08f998c",
   "metadata": {},
   "source": [
    "![Stats](https://e00-marca.uecdn.es/assets/multimedia/imagenes/2020/04/13/15867919512613.jpg)"
   ]
  },
  {
   "cell_type": "markdown",
   "id": "cfdc1a96",
   "metadata": {},
   "source": [
    "### TABLE OF CONTENTS\n",
    "\n",
    "1. IMPORTING LIBRARIES\n",
    "\n",
    "2. IMPORTING DATASET\n",
    "\n",
    "3. DATA PROCESSING\n",
    "\n",
    "4. EXPLORATORY DATA ANALYSIS (EDA)\n",
    "\n",
    "5. SAMPLING\n",
    "\n",
    "6. FEATURE SELECTION\n",
    "\n",
    "7. MODEL BUILDING\n",
    "    \n",
    "    MODEL SELECTION:\n",
    "\n",
    "        I.      Decision Tree\n",
    "        II.     Random Forest\n",
    "        III.    Linear Regression\n",
    "\n",
    "8. MODEL EVALUATION\n",
    "\n",
    "9. MODEL VALIDATION\n",
    "    \n",
    "    HYPER PARAMETER TUNING (GRID SEARCH)\n",
    "\n",
    "    FEATURE IMPORTANCE:\n",
    "\n",
    "        I.      Grid Search Feature Importances\n",
    "        II.     Decision Terr FEature Importances\n",
    "        III.    Random Forest Feature Importances\n",
    "    \n",
    "    ORDINARY LEAST SQUARE (OLS) LINEAR REGRESSION\n",
    "\n",
    "10. REFERENCES:"
   ]
  },
  {
   "cell_type": "markdown",
   "id": "762057d1",
   "metadata": {},
   "source": [
    "---\n",
    "<h1 style='background:cornflowerblue;\n",
    "           border:0;\n",
    "           color:black'>\n",
    "    <center>\n",
    "        1. IMPORTING LIBRARIES\n",
    "    </center>\n",
    "</h1>\n",
    "\n",
    "---"
   ]
  },
  {
   "cell_type": "code",
   "execution_count": null,
   "id": "33b51792",
   "metadata": {},
   "outputs": [],
   "source": [
    "#Importing all libraries...\n",
    "import pandas as pd\n",
    "import numpy as np\n",
    "import seaborn as sns\n",
    "import seaborn as sb\n",
    "\n",
    "#Visualization libraries\n",
    "import plotly.offline as py\n",
    "%matplotlib inline\n",
    "import plotly.express as px\n",
    "import matplotlib.pyplot as plt\n",
    "import plotly.graph_objects as go\n",
    "from plotly.offline import init_notebook_mode, iplot\n",
    "import matplotlib as mpl\n",
    "cmap = mpl.colormaps['viridis']\n",
    "\n",
    "#Importing statistics for confidence interval\n",
    "import statsmodels.api as sm\n",
    "from scipy.stats import t\n",
    "from sklearn import metrics\n",
    "from math import log\n",
    "\n",
    "# Performance\n",
    "from sklearn.metrics import mean_absolute_error, mean_squared_error\n",
    "from sklearn.metrics import mean_squared_error\n",
    "from sklearn.metrics import r2_score\n",
    "\n",
    "# Machine Learning Model and Evaluation\n",
    "from sklearn.model_selection import train_test_split\n",
    "from sklearn.tree import DecisionTreeRegressor\n",
    "from sklearn.ensemble import RandomForestRegressor\n",
    "from sklearn.linear_model import LinearRegression\n",
    "from sklearn.tree import plot_tree\n",
    "from sklearn import tree\n",
    "from sklearn.ensemble import GradientBoostingRegressor\n",
    "from sklearn.model_selection import GridSearchCV\n",
    "\n",
    "#To ignore all DeprecationWarning warnings in your code.\n",
    "import warnings\n",
    "warnings.filterwarnings(\"ignore\", category=DeprecationWarning)\n",
    "warnings.simplefilter(action='ignore', category=FutureWarning)\n",
    "pd.options.mode.chained_assignment = None  # default='warn'\n",
    "\n",
    "#Setting scatter size for our numerical variables plots\n",
    "SCATTER_SIZE = 800"
   ]
  },
  {
   "cell_type": "markdown",
   "id": "17db5bec",
   "metadata": {},
   "source": [
    "---\n",
    "<h1 style='background:cornflowerblue;\n",
    "           border:0;\n",
    "           color:black'>\n",
    "    <center>\n",
    "        2. IMPORTING DATASET\n",
    "    </center>\n",
    "</h1>\n",
    "\n",
    "---"
   ]
  },
  {
   "cell_type": "code",
   "execution_count": null,
   "id": "187b4292",
   "metadata": {},
   "outputs": [],
   "source": [
    "# Reading our first (team stats) CSV files from List\n",
    "df = pd.read_csv('fifa.csv')\n",
    "\n",
    "#Maximum rows and columns to be displayed from our tables\n",
    "pd.set_option('display.max_columns', 1000)\n",
    "pd.set_option('display.max_rows', 1000)"
   ]
  },
  {
   "cell_type": "code",
   "execution_count": null,
   "id": "f67f62f4",
   "metadata": {},
   "outputs": [],
   "source": [
    "#Checking top row(s) of our df data\n",
    "df.head()"
   ]
  },
  {
   "cell_type": "markdown",
   "id": "92de7d44",
   "metadata": {},
   "source": [
    "#### `VARIABLES`\n",
    "\n",
    "    * Potential Independent variable\n",
    "    - Performancemetrics i.e age, position, overall_rating, potential etc\n",
    "\n",
    "    * Dependent variable\n",
    "    - Future market value"
   ]
  },
  {
   "cell_type": "markdown",
   "id": "416cb98d",
   "metadata": {},
   "source": [
    "---\n",
    "<h1 style='background:cornflowerblue;\n",
    "           border:0;\n",
    "           color:black'>\n",
    "    <center>\n",
    "        3. DATA PROCESSING\n",
    "    </center>\n",
    "</h1>\n",
    "\n",
    "---"
   ]
  },
  {
   "cell_type": "code",
   "execution_count": null,
   "id": "95207a9d",
   "metadata": {},
   "outputs": [],
   "source": [
    "# Checking the shape of our first csv file (df)\n",
    "df.shape"
   ]
  },
  {
   "cell_type": "code",
   "execution_count": null,
   "id": "eb966839",
   "metadata": {},
   "outputs": [],
   "source": [
    "#Checking duplicated data as a whole\n",
    "df.duplicated()"
   ]
  },
  {
   "cell_type": "code",
   "execution_count": null,
   "id": "62dd328d",
   "metadata": {},
   "outputs": [],
   "source": [
    "#Checking sum of duplicates in our data.\n",
    "df.duplicated().sum()"
   ]
  },
  {
   "cell_type": "code",
   "execution_count": null,
   "id": "3a1aaf80",
   "metadata": {},
   "outputs": [],
   "source": [
    "#Checking all columns in our df dataframe\n",
    "for col in df.columns:\n",
    "    print(col)"
   ]
  },
  {
   "cell_type": "code",
   "execution_count": null,
   "id": "22a1d621",
   "metadata": {},
   "outputs": [],
   "source": [
    "#Checking data types in our dataframe\n",
    "df.dtypes"
   ]
  },
  {
   "cell_type": "code",
   "execution_count": null,
   "id": "3752c6ca",
   "metadata": {},
   "outputs": [],
   "source": [
    "#Checking statistical details of our data\n",
    "df.describe()"
   ]
  },
  {
   "cell_type": "code",
   "execution_count": null,
   "id": "d4645c87",
   "metadata": {},
   "outputs": [],
   "source": [
    "# Count of NaN values in each column\n",
    "print(df.isnull().sum())"
   ]
  },
  {
   "cell_type": "code",
   "execution_count": null,
   "id": "4e5cc90b",
   "metadata": {},
   "outputs": [],
   "source": [
    "#Dropping unimportant columns in our data\n",
    "df.drop(['birth_date',\n",
    "         'id',\n",
    "         'full_name',\n",
    "         'weak_foot(1-5)',\n",
    "         'body_type',\n",
    "         'national_team_position',\n",
    "         'national_jersey_number',\n",
    "         'skill_moves(1-5)',\n",
    "         'international_reputation(1-5)',\n",
    "         'GK_reflexes',\n",
    "         'GK_positioning',\n",
    "         'GK_kicking',\n",
    "         'GK_handling',\n",
    "         'GK_diving',\n",
    "         'national_team',\n",
    "         'contract_end_year',\n",
    "         'club_join_date',\n",
    "         'tags',\n",
    "         'traits',\n",
    "         'LS', 'ST', 'RS', 'LW', 'LF', 'CF', 'RF', 'RW', 'LAM', 'CAM', 'RAM', 'LM', 'LCM', 'CM', 'RCM', 'RM', 'LWB', 'LDM', 'CDM', 'RDM', 'RWB', 'LB', 'LCB', 'CB', 'RCB', 'RB'\n",
    "        ],\n",
    "        axis=1, inplace=True)\n",
    "\n",
    "#Distplaying top of our data after dropping unimportant features\n",
    "df.head()"
   ]
  },
  {
   "cell_type": "markdown",
   "id": "796d1c58",
   "metadata": {},
   "source": [
    "\"release_clause_euro\", \"national_team\",  \"weak_foot(1-5)\", \"potential\", \"full_name\","
   ]
  },
  {
   "cell_type": "markdown",
   "id": "f9425d83",
   "metadata": {},
   "source": [
    "#### MISSING VALUES"
   ]
  },
  {
   "cell_type": "code",
   "execution_count": null,
   "id": "2bb31e34",
   "metadata": {},
   "outputs": [],
   "source": [
    "#Dropping all observations with missing data/values\n",
    "df1=df.dropna().reset_index(drop=True)\n",
    "\n",
    "# Count of NaN values in each column\n",
    "print(df1.isnull().sum())"
   ]
  },
  {
   "cell_type": "code",
   "execution_count": null,
   "id": "9f9a5801",
   "metadata": {},
   "outputs": [],
   "source": [
    "#Checking the shape of our data after dropping missing data \n",
    "df1.shape"
   ]
  },
  {
   "cell_type": "code",
   "execution_count": null,
   "id": "62365cdb",
   "metadata": {},
   "outputs": [],
   "source": [
    "#Checking minimum value in our dataset\n",
    "minvalue = df1['age'].min() \n",
    "  \n",
    "minvalue"
   ]
  },
  {
   "cell_type": "code",
   "execution_count": null,
   "id": "cc7973ec",
   "metadata": {},
   "outputs": [],
   "source": [
    "#Checking maximum age in our dataset\n",
    "maxvalue = df1['age'].max() \n",
    "  \n",
    "maxvalue"
   ]
  },
  {
   "cell_type": "code",
   "execution_count": null,
   "id": "420894f3",
   "metadata": {},
   "outputs": [],
   "source": [
    "#Selecting only few columns from our dataframe\n",
    "df1[['name', 'age', 'nationality', 'overall_rating', 'potential', 'club_rating', 'value_euro', 'positions']]"
   ]
  },
  {
   "cell_type": "code",
   "execution_count": null,
   "id": "c9a76cc0",
   "metadata": {},
   "outputs": [],
   "source": [
    "#Getting only one preferred position in positions column (first only)\n",
    "df1['preferred_position'] = df1['positions'].str.split().str[0]\n",
    "\n",
    "#Removing comma's to separate player positions in positions columns\n",
    "df1['positions'] = df1['positions'].str.replace(',',' ')\n",
    "\n",
    "#Getting only one preferred position in positions column (first only)\n",
    "df1['preferred_position'] = df1['positions'].str.split().str[0]\n",
    "\n",
    "#Checking top row(s) of cols data after removing commas in positions value\n",
    "df1"
   ]
  },
  {
   "cell_type": "code",
   "execution_count": null,
   "id": "3ddc1fba",
   "metadata": {},
   "outputs": [],
   "source": [
    "#Checking preferred position column to see what we have\n",
    "df1.preferred_position.unique()"
   ]
  },
  {
   "cell_type": "markdown",
   "id": "24aaa625",
   "metadata": {},
   "source": [
    "#### Playing Positions\n",
    "\n",
    "In football, there are many different types of positions a player can play. In this project, i decided to reform all the unique player's playing positions into the following below.\n",
    "\n",
    "`1. Strikers` <br>\n",
    "-Forward: ST, CF <br>\n",
    "-Winger: LW, RW <br>\n",
    "\n",
    "`2. Midfielders` <br>\n",
    "-Attacking Midfielder: CAM <br>\n",
    "-Central Midfielder: CM <br>\n",
    "-Side Midfielder: LM, RM <br>\n",
    "-Defensive Midfielder: CDM <br>\n",
    "\n",
    "`3. Defenders` <br>\n",
    "-Centre Back: CB <br>\n",
    "-Full Back: LWB, RWB, LB, RB <br>\n",
    "\n",
    "`4. Goal Keeper` <br>\n",
    "-Goalkeeper: GK <br>\n",
    "   \n",
    "\n",
    "In this dataset some players appear to be playing in multiple positions, so for those with multiple playing positions I only chose the first one."
   ]
  },
  {
   "cell_type": "code",
   "execution_count": null,
   "id": "a37d9c92",
   "metadata": {},
   "outputs": [],
   "source": [
    "# count of players in the dataset\n",
    "print(f'Count of players in the dataset is: {df1.shape[0]} players')\n",
    "\n",
    "# count of features in the dataset\n",
    "print(f'Count of features in the dataset is: {df1.shape[1]} features')\n",
    "\n",
    "# count of nationalities in the dataset\n",
    "print(f'Count of nationalities in the dataset is: {df1.nationality.nunique()} nationalities')\n",
    "\n",
    "# count of clubs in the dataset\n",
    "print(f'Count of clubs in the dataset is: {df1.club_team.nunique()} clubs')"
   ]
  },
  {
   "cell_type": "code",
   "execution_count": null,
   "id": "5293ca7b",
   "metadata": {},
   "outputs": [],
   "source": [
    "#Adding column that shows total count of players by position\n",
    "df1['position_count'] = df1.groupby('preferred_position')['preferred_position'].transform('count')"
   ]
  },
  {
   "cell_type": "code",
   "execution_count": null,
   "id": "c99cfadf",
   "metadata": {},
   "outputs": [],
   "source": [
    "#Checking data types in our dataframe\n",
    "df1.dtypes"
   ]
  },
  {
   "cell_type": "code",
   "execution_count": null,
   "id": "1decdb9a",
   "metadata": {},
   "outputs": [],
   "source": [
    "#Checking the shape of our data\n",
    "df1.shape"
   ]
  },
  {
   "cell_type": "code",
   "execution_count": null,
   "id": "0f51b6c5",
   "metadata": {},
   "outputs": [],
   "source": [
    "#Checking top row(s) of cols data\n",
    "df1.head()"
   ]
  },
  {
   "cell_type": "markdown",
   "id": "a79b044a",
   "metadata": {},
   "source": [
    "#### OUTLIERS"
   ]
  },
  {
   "cell_type": "code",
   "execution_count": null,
   "id": "3d976c86",
   "metadata": {},
   "outputs": [],
   "source": [
    "#Checking mean and max of age column to detect outliers\n",
    "df1.describe()['age']"
   ]
  },
  {
   "cell_type": "code",
   "execution_count": null,
   "id": "e0969f1f",
   "metadata": {},
   "outputs": [],
   "source": [
    "#create a function to find outliers using IQR\n",
    "def find_outliers_IQR(df1):\n",
    "    q1=df1.quantile(0.25)\n",
    "    q3=df1.quantile(0.75)\n",
    "    IQR=q3-q1\n",
    "    \n",
    "    outliers = df1[((df1<(q1-1.5*IQR)) | (df1>(q3+1.5*IQR)))]\n",
    "    \n",
    "    return outliers"
   ]
  },
  {
   "cell_type": "code",
   "execution_count": null,
   "id": "01d0d375",
   "metadata": {},
   "outputs": [],
   "source": [
    "#First run age through the function to return a series of the outliers.\n",
    "outliers = find_outliers_IQR(df1['age'])\n",
    "\n",
    "print(\"Number of outliers: \"+ str(len(outliers)))\n",
    "print(\"Max outlier value: \"+ str(outliers.max()))\n",
    "print(\"Min outlier value: \"+ str(outliers.min()))\n",
    "\n",
    "#outliers"
   ]
  },
  {
   "cell_type": "code",
   "execution_count": null,
   "id": "c743bbe3",
   "metadata": {},
   "outputs": [],
   "source": [
    "#Dropping rows containing outliers\n",
    "df2 = df1.drop(outliers.index)"
   ]
  },
  {
   "cell_type": "code",
   "execution_count": null,
   "id": "fa669193",
   "metadata": {},
   "outputs": [],
   "source": [
    "#Checking the shape of our new data after dropping outliers\n",
    "df2.shape"
   ]
  },
  {
   "cell_type": "code",
   "execution_count": null,
   "id": "b7e346e7",
   "metadata": {},
   "outputs": [],
   "source": [
    "# select all numeric columns\n",
    "df2.select_dtypes(include='number') "
   ]
  },
  {
   "cell_type": "code",
   "execution_count": null,
   "id": "9cc16151",
   "metadata": {},
   "outputs": [],
   "source": [
    "# Create the correlation matrix\n",
    "corr = df2.corr()\n",
    "\n",
    "# Set up the matplotlib figure\n",
    "f, ax = plt.subplots(figsize=(15, 9))\n",
    "\n",
    "sns.heatmap(\n",
    "    corr, \n",
    "    cmap=cmap,\n",
    "    annot=True,\n",
    "    vmax=.3,\n",
    "    vmin=-.3,\n",
    "    center=0, \n",
    "    square=True, \n",
    "    linewidths=.5, \n",
    "    cbar_kws={\"shrink\": .5})"
   ]
  },
  {
   "cell_type": "markdown",
   "id": "59b39657",
   "metadata": {},
   "source": [
    "---\n",
    "<h1 style='background:cornflowerblue;\n",
    "           border:0;\n",
    "           color:black'>\n",
    "    <center>\n",
    "        4. EXPLORATORY DATA ANALYSIS (EDA)\n",
    "    </center>\n",
    "</h1>\n",
    "\n",
    "---"
   ]
  },
  {
   "cell_type": "code",
   "execution_count": null,
   "id": "d751eae0",
   "metadata": {},
   "outputs": [],
   "source": [
    "#Graph of value against release clause\n",
    "fig = px.line(df2,\n",
    "              x='release_clause_euro',\n",
    "              y='value_euro',\n",
    "              color='name', \n",
    "              title='Graph of value against release clause',\n",
    "              markers=True)\n",
    "fig.show()"
   ]
  },
  {
   "cell_type": "code",
   "execution_count": null,
   "id": "cdee6570",
   "metadata": {
    "scrolled": false
   },
   "outputs": [],
   "source": [
    "#Graph of value against player wages\n",
    "fig = px.line(df2,\n",
    "              x='wage_euro',\n",
    "              y='value_euro',\n",
    "              color='name',\n",
    "              title='Graph of value against player wages €',\n",
    "              markers=True)\n",
    "fig.show()"
   ]
  },
  {
   "cell_type": "code",
   "execution_count": null,
   "id": "2a80d8e3",
   "metadata": {
    "scrolled": false
   },
   "outputs": [],
   "source": [
    "#Graph of value against height in cms\n",
    "fig = px.line(df2, x='height_cm',\n",
    "              y='value_euro', \n",
    "              color='name', \n",
    "              title='Graph of value against height in (cm)', \n",
    "              markers=True)\n",
    "fig.show()"
   ]
  },
  {
   "cell_type": "code",
   "execution_count": null,
   "id": "1597a65b",
   "metadata": {
    "scrolled": false
   },
   "outputs": [],
   "source": [
    "#Graph of value against weight in kgs\n",
    "fig = px.line(df2, \n",
    "              x='weight_kgs', \n",
    "              y='value_euro', \n",
    "              color='name', \n",
    "              title='Graph of value against weight in kgs',\n",
    "              markers=True)\n",
    "fig.show()"
   ]
  },
  {
   "cell_type": "code",
   "execution_count": null,
   "id": "858f587a",
   "metadata": {},
   "outputs": [],
   "source": [
    "#Graph of value against nationality\n",
    "fig = px.line(df2, \n",
    "              x='nationality',\n",
    "              y='value_euro',\n",
    "              color='name',\n",
    "              title='Graph of value against nationality',\n",
    "              markers=True)\n",
    "fig.show()"
   ]
  },
  {
   "cell_type": "code",
   "execution_count": null,
   "id": "de894294",
   "metadata": {},
   "outputs": [],
   "source": [
    "#Graph of value against club team\n",
    "fig = px.line(df2, \n",
    "              x='club_team',\n",
    "              y='value_euro', \n",
    "              color='name',\n",
    "              title='Graph of value against club team',\n",
    "              markers=True)\n",
    "fig.show()"
   ]
  },
  {
   "cell_type": "code",
   "execution_count": null,
   "id": "67923ab4",
   "metadata": {},
   "outputs": [],
   "source": [
    "#Graph of number of players, preferred foot and positions\n",
    "fig = px.bar(df2,\n",
    "             x=\"preferred_position\",\n",
    "             y='position_count',\n",
    "             color='preferred_foot',\n",
    "             title=\"Number of players according to preferred position and preferred foot\")\n",
    "fig.show()"
   ]
  },
  {
   "cell_type": "code",
   "execution_count": null,
   "id": "f295c5ad",
   "metadata": {},
   "outputs": [],
   "source": [
    "#Graph of value, preferred position and work rate of players\n",
    "fig = px.bar(df2, \n",
    "             x=\"preferred_position\", \n",
    "             y=\"value_euro\",\n",
    "             color=\"work_rate\", \n",
    "             title='Graph of value, preferred position and work rate of players',\n",
    "             text=\"name\")\n",
    "fig.show()"
   ]
  },
  {
   "cell_type": "code",
   "execution_count": null,
   "id": "b314b52b",
   "metadata": {},
   "outputs": [],
   "source": [
    "#Area chart of football players value against their age in their respective positions on the field\n",
    "fig = px.area(df2,\n",
    "              x=\"age\",\n",
    "              y=\"value_euro\",\n",
    "              color=\"preferred_position\",\n",
    "              line_group=\"name\",\n",
    "              title='Area chart of of football players value against their age')\n",
    "fig.show()"
   ]
  },
  {
   "cell_type": "code",
   "execution_count": null,
   "id": "e1e50fd5",
   "metadata": {
    "scrolled": true
   },
   "outputs": [],
   "source": [
    "#Group the data by Result:\n",
    "general = df2.groupby('preferred_position')['preferred_position'].count().reset_index(name = \"count\")\n",
    "\n",
    "#Apply px.pie:\n",
    "fig = px.pie(general,\n",
    "             values ='count',\n",
    "             names ='preferred_position',\n",
    "             title='Pie-Chart of Number of players in each Preferred Posistion', color = 'count')\n",
    "\n",
    "#Add text and define text information:\n",
    "fig.update_traces(textposition='inside', textinfo='percent+value')\n",
    "fig.show()"
   ]
  },
  {
   "cell_type": "code",
   "execution_count": null,
   "id": "9e8f8e98",
   "metadata": {
    "scrolled": true
   },
   "outputs": [],
   "source": [
    "#Group the data by Result:\n",
    "general = df2.groupby('preferred_foot')['preferred_foot'].count().reset_index(name = \"count\")\n",
    "\n",
    "#Apply px.pie:\n",
    "fig = px.pie(general,\n",
    "             values ='count',\n",
    "             names ='preferred_foot',\n",
    "             title='Pie-Chart of Number (and Percentage) of players according to Preferred Foot', color = 'count')\n",
    "\n",
    "#Add text and define text information:\n",
    "fig.update_traces(textposition='inside', textinfo='percent+value')\n",
    "fig.show()"
   ]
  },
  {
   "cell_type": "markdown",
   "id": "75eb6f78",
   "metadata": {},
   "source": [
    "From the figure above, we can see the most players are on positions CB, ST and CM."
   ]
  },
  {
   "cell_type": "markdown",
   "id": "a6ff6f41",
   "metadata": {},
   "source": [
    " "
   ]
  },
  {
   "cell_type": "code",
   "execution_count": null,
   "id": "fd0c30f9",
   "metadata": {
    "scrolled": true
   },
   "outputs": [],
   "source": [
    "#Plotting a graph of football players nationality distribution\n",
    "fig = px.histogram(\n",
    "    df2, \n",
    "    \"nationality\", \n",
    "    nbins=50, \n",
    "    title='Count distribution by Nationality'\n",
    ")\n",
    "\n",
    "fig.show()"
   ]
  },
  {
   "cell_type": "code",
   "execution_count": null,
   "id": "52f73803",
   "metadata": {},
   "outputs": [],
   "source": [
    "#plotting Scatter plot for Value (€) against Overall Rating\n",
    "fig = px.scatter(\n",
    "    df, \n",
    "    x='overall_rating', \n",
    "    y='value_euro', \n",
    "    height=SCATTER_SIZE,\n",
    "    width=SCATTER_SIZE,\n",
    "    title='Scatter plot for Value (€) against Overall Rating')\n",
    "\n",
    "fig.show()"
   ]
  },
  {
   "cell_type": "code",
   "execution_count": null,
   "id": "77af3d19",
   "metadata": {},
   "outputs": [],
   "source": [
    "#Plotting a scatter plot for Overall Rating against Age\n",
    "fig = px.scatter(\n",
    "    df, \n",
    "    x='age', \n",
    "    y='overall_rating', \n",
    "    height=SCATTER_SIZE,\n",
    "    width=SCATTER_SIZE,\n",
    "    title='Scatter plot for Overall Rating against players Age' \n",
    ")\n",
    "\n",
    "fig.show()\n",
    "\n",
    "#Top 10 players by potential.\n",
    "df2.sort_values(\"potential\", ascending=False)[['name', \"value_euro\",  'potential', \"overall_rating\", \"age\",]].head(10)"
   ]
  },
  {
   "cell_type": "code",
   "execution_count": null,
   "id": "e67e27bf",
   "metadata": {},
   "outputs": [],
   "source": [
    "#Plotting a scatter plot for Overall Rating against Age\n",
    "fig = px.scatter(\n",
    "    df2, \n",
    "    x='age', \n",
    "    y='potential', \n",
    "    height=SCATTER_SIZE,\n",
    "    width=SCATTER_SIZE,\n",
    "    title='Scatter plot for Potential against Age' \n",
    ")\n",
    "\n",
    "fig.show()"
   ]
  },
  {
   "cell_type": "code",
   "execution_count": null,
   "id": "9790dc22",
   "metadata": {},
   "outputs": [],
   "source": [
    "#Plotting a scatter plot for Overall Rating against Age\n",
    "fig = px.scatter(\n",
    "    df2, \n",
    "    x='potential', \n",
    "    y='value_euro', \n",
    "    height=SCATTER_SIZE,\n",
    "    width=SCATTER_SIZE,\n",
    "    title='Scatter plot for Potential against Age' \n",
    ")\n",
    "\n",
    "fig.show()"
   ]
  },
  {
   "cell_type": "code",
   "execution_count": null,
   "id": "efdaf02c",
   "metadata": {},
   "outputs": [],
   "source": [
    "#Plotting a scatter plot for Overall Rating potential\n",
    "fig = px.scatter(\n",
    "    df2, \n",
    "    x='potential', \n",
    "    y='overall_rating', \n",
    "    height=SCATTER_SIZE,\n",
    "    width=SCATTER_SIZE,\n",
    "    title='Scatter plot for Overall Rating against Potential' \n",
    ")\n",
    "\n",
    "fig.show()\n",
    "\n",
    "\n",
    "#Top 10 players by potential\n",
    "df2.sort_values(\"potential\", ascending=False)[['name', \"age\", \"value_euro\", \"overall_rating\", 'potential']].head(10)"
   ]
  },
  {
   "cell_type": "code",
   "execution_count": null,
   "id": "90a63d99",
   "metadata": {},
   "outputs": [],
   "source": [
    "#Plotting a histogram of player value distribution\n",
    "fig = px.histogram(\n",
    "    df2, \n",
    "    \"value_euro\", \n",
    "    nbins=100, \n",
    "    title='Histogram showing value distribution',\n",
    "    width=800,\n",
    "    height=600\n",
    ")\n",
    "\n",
    "fig.show()"
   ]
  },
  {
   "cell_type": "markdown",
   "id": "027c5340",
   "metadata": {},
   "source": [
    "Let's check the `Value` columns distribution. As we can see the majority of player's value is less than `15M euro (€)`. "
   ]
  },
  {
   "cell_type": "markdown",
   "id": "072ca837",
   "metadata": {},
   "source": [
    "From the above figure, we looked at the avarage value for every `Age` in our dataset. As we see from the plot the most suitable `age` to get high transfer value is `27 years`."
   ]
  },
  {
   "cell_type": "code",
   "execution_count": null,
   "id": "c431fb60",
   "metadata": {},
   "outputs": [],
   "source": [
    "#Checking top of our dataset\n",
    "df2.head(3)"
   ]
  },
  {
   "cell_type": "code",
   "execution_count": null,
   "id": "25cd9586",
   "metadata": {},
   "outputs": [],
   "source": [
    "#Finding correlation using pearson in our df2 data\n",
    "pearsoncorr=df2.corr(method='pearson')\n",
    "pearsoncorr"
   ]
  },
  {
   "cell_type": "code",
   "execution_count": null,
   "id": "ac369fdd",
   "metadata": {},
   "outputs": [],
   "source": [
    "matrix = df2.corr().round(2)\n",
    "sns.heatmap(matrix, annot=True, vmax=1, vmin=-1, center=0, cmap='vlag')\n",
    "plt.show()"
   ]
  },
  {
   "cell_type": "markdown",
   "id": "04c78db2",
   "metadata": {},
   "source": [
    "---\n",
    "<h1 style='background:cornflowerblue;\n",
    "           border:0;\n",
    "           color:black'>\n",
    "    <center>\n",
    "        5. SAMPLING\n",
    "    </center>\n",
    "</h1>\n",
    "\n",
    "---"
   ]
  },
  {
   "cell_type": "code",
   "execution_count": null,
   "id": "1836f240",
   "metadata": {},
   "outputs": [],
   "source": [
    "#Returning a row as we havent yet specified sample number\n",
    "df2.sample()"
   ]
  },
  {
   "cell_type": "code",
   "execution_count": null,
   "id": "5b04d903",
   "metadata": {},
   "outputs": [],
   "source": [
    "#Defining our sample number\n",
    "subset = df2.sample(n=500)"
   ]
  },
  {
   "cell_type": "code",
   "execution_count": null,
   "id": "8e220ff8",
   "metadata": {},
   "outputs": [],
   "source": [
    "#Displaying our subset\n",
    "subset"
   ]
  },
  {
   "cell_type": "code",
   "execution_count": null,
   "id": "9315063c",
   "metadata": {},
   "outputs": [],
   "source": [
    "#Checking shape of our subset data\n",
    "subset.shape"
   ]
  },
  {
   "cell_type": "code",
   "execution_count": null,
   "id": "e55644f9",
   "metadata": {},
   "outputs": [],
   "source": [
    "# count of players in the dataset\n",
    "print(f'Count of players in the dataset is: {subset.shape[0]} players')"
   ]
  },
  {
   "cell_type": "code",
   "execution_count": null,
   "id": "2826710e",
   "metadata": {},
   "outputs": [],
   "source": [
    "#Checking nationality in our subset data\n",
    "subset['nationality'].value_counts()"
   ]
  },
  {
   "cell_type": "code",
   "execution_count": null,
   "id": "98cae220",
   "metadata": {},
   "outputs": [],
   "source": [
    "#Count in our preferred position column of our subset data\n",
    "subset['preferred_position'].value_counts()"
   ]
  },
  {
   "cell_type": "code",
   "execution_count": null,
   "id": "86986f30",
   "metadata": {},
   "outputs": [],
   "source": [
    "#Exploring statistics for all our categorical variables\n",
    "for i in subset.columns[2:11]:\n",
    "    \n",
    "    ind = subset[i].value_counts().index\n",
    "    val = subset[i].value_counts().values\n",
    "    \n",
    "    print(f'Variable: {i}')\n",
    "    print(subset[i].value_counts().describe())\n",
    "    print('.'*50)"
   ]
  },
  {
   "cell_type": "code",
   "execution_count": null,
   "id": "69521e6b",
   "metadata": {},
   "outputs": [],
   "source": [
    "#Finding correlation using pearson in our subset data\n",
    "subset.corr(method='pearson')"
   ]
  },
  {
   "cell_type": "code",
   "execution_count": null,
   "id": "87d4d9b4",
   "metadata": {},
   "outputs": [],
   "source": [
    "#Top of our subset head\n",
    "subset.head()"
   ]
  },
  {
   "cell_type": "code",
   "execution_count": null,
   "id": "4737e53e",
   "metadata": {},
   "outputs": [],
   "source": [
    "#Shape of our subset\n",
    "subset.shape"
   ]
  },
  {
   "cell_type": "markdown",
   "id": "9a41135f",
   "metadata": {},
   "source": [
    "---\n",
    "<h1 style='background:cornflowerblue;\n",
    "           border:0;\n",
    "           color:black'>\n",
    "    <center>\n",
    "        6. FEATURE SELECTION\n",
    "    </center>\n",
    "</h1>\n",
    "\n",
    "---"
   ]
  },
  {
   "cell_type": "code",
   "execution_count": null,
   "id": "72a94130",
   "metadata": {},
   "outputs": [],
   "source": [
    "#Filtering important features in our dataset\n",
    "features = [\n",
    "    'age', 'composure', 'ball_control', 'reactions', 'potential', 'crossing', 'aggression',\n",
    "    'standing_tackle','interceptions', 'jumping', 'short_passing', 'long_passing',\n",
    "    'heading_accuracy', 'balance', 'strength', 'agility', 'height_cm', 'weight_kgs', 'freekick_accuracy', 'penalties', 'value_euro']\n",
    "\n",
    "#Displaying features selected.\n",
    "df3 = subset[[*features]]\n",
    "df3.head()"
   ]
  },
  {
   "cell_type": "code",
   "execution_count": null,
   "id": "4798e582",
   "metadata": {},
   "outputs": [],
   "source": [
    "#Value varies greatly, so use log transformation for modelling\n",
    "#Value distribution after log transformation\n",
    "df3[\"value_euro\"] = np.log(df3[\"value_euro\"])\n",
    "df3[\"value_euro\"].hist();"
   ]
  },
  {
   "cell_type": "code",
   "execution_count": null,
   "id": "0f828f07",
   "metadata": {},
   "outputs": [],
   "source": [
    "#Finding correlation using pearson in our df3 data after feature selection\n",
    "pearsoncorr=df3.corr(method='pearson')\n",
    "pearsoncorr"
   ]
  },
  {
   "cell_type": "code",
   "execution_count": null,
   "id": "bc18b48e",
   "metadata": {},
   "outputs": [],
   "source": [
    "corr = df3.corr()[['value_euro']].sort_values(by='value_euro', ascending=False)\n",
    "sns.heatmap(corr, annot=True)"
   ]
  },
  {
   "cell_type": "code",
   "execution_count": null,
   "id": "7faa7d39",
   "metadata": {},
   "outputs": [],
   "source": [
    "#Heatmap of new selected features\n",
    "matrix = df.corr().round(2)\n",
    "sns.heatmap(matrix, annot=True, vmax=1, vmin=-1, center=0, cmap='vlag')\n",
    "plt.show()"
   ]
  },
  {
   "cell_type": "code",
   "execution_count": null,
   "id": "e1d24176",
   "metadata": {},
   "outputs": [],
   "source": [
    "#plotting Scatter plot for Value (€) against Overall Rating\n",
    "fig = px.scatter(\n",
    "    df3, \n",
    "    x='potential', \n",
    "    y='value_euro', \n",
    "    height=SCATTER_SIZE,\n",
    "    width=SCATTER_SIZE,\n",
    "    title='Scatter plot for Value (€) against potential', trendline=\"ols\")\n",
    "\n",
    "fig.show()"
   ]
  },
  {
   "cell_type": "code",
   "execution_count": null,
   "id": "161ca581",
   "metadata": {},
   "outputs": [],
   "source": [
    "#plotting Scatter plot for Value (€) against Overall Rating\n",
    "fig = px.scatter(\n",
    "    df3, \n",
    "    x='reactions', \n",
    "    y='value_euro', \n",
    "    height=SCATTER_SIZE,\n",
    "    width=SCATTER_SIZE,\n",
    "    title='Scatter plot for Value (€) against Reactions', trendline=\"ols\")\n",
    "\n",
    "fig.show()"
   ]
  },
  {
   "cell_type": "code",
   "execution_count": null,
   "id": "4066db18",
   "metadata": {},
   "outputs": [],
   "source": [
    "#plotting Scatter plot for Value (€) against Overall Rating\n",
    "fig = px.scatter(\n",
    "    df3, \n",
    "    x='composure', \n",
    "    y='value_euro', \n",
    "    height=SCATTER_SIZE,\n",
    "    width=SCATTER_SIZE,\n",
    "    title='Scatter plot for Value (€) against Composure', trendline=\"ols\")\n",
    "\n",
    "fig.show()"
   ]
  },
  {
   "cell_type": "code",
   "execution_count": null,
   "id": "88d2b2d8",
   "metadata": {},
   "outputs": [],
   "source": [
    "#Checking vshape of our dats\n",
    "df3.shape"
   ]
  },
  {
   "cell_type": "code",
   "execution_count": null,
   "id": "a74a7d36",
   "metadata": {},
   "outputs": [],
   "source": [
    "# count of players in the dataset after sampling\n",
    "print(f'Count of players in the dataset is: {df3.shape[0]} players')"
   ]
  },
  {
   "cell_type": "code",
   "execution_count": null,
   "id": "ccbf262d",
   "metadata": {},
   "outputs": [],
   "source": [
    "#Checking description of our data\n",
    "df3.describe()"
   ]
  },
  {
   "cell_type": "code",
   "execution_count": null,
   "id": "f37ed74c",
   "metadata": {},
   "outputs": [],
   "source": [
    "# Checking null values.\n",
    "df3.isnull().any()"
   ]
  },
  {
   "cell_type": "code",
   "execution_count": null,
   "id": "0f192abd",
   "metadata": {},
   "outputs": [],
   "source": [
    "#Checking data types\n",
    "df3.dtypes"
   ]
  },
  {
   "cell_type": "markdown",
   "id": "1447a5a6",
   "metadata": {},
   "source": [
    "---\n",
    "<h1 style='background:cornflowerblue;\n",
    "           border:0;\n",
    "           color:black'>\n",
    "    <center>\n",
    "        7. MODEL BUILDING\n",
    "    </center>\n",
    "</h1>\n",
    "\n",
    "---"
   ]
  },
  {
   "cell_type": "code",
   "execution_count": null,
   "id": "2c4d3f8e",
   "metadata": {},
   "outputs": [],
   "source": [
    "#CREATING TEAST SET\n",
    "#Assigning values to X and y.\n",
    "y = df3.value_euro\n",
    "X = df3.drop(['value_euro'], axis=1)\n",
    "\n",
    "# Split dataset into training set and test set\n",
    "X_train, X_test, y_train, y_test = train_test_split(X, y, test_size=0.2, random_state=42)\n",
    "\n",
    "print(X_train.shape)\n",
    "print(X_test.shape)\n",
    "print(y_train.shape)\n",
    "print(y_test.shape)"
   ]
  },
  {
   "cell_type": "code",
   "execution_count": null,
   "id": "a7f36176",
   "metadata": {},
   "outputs": [],
   "source": [
    "#Division of trained and tested data\n",
    "print('Train',' ','Test')\n",
    "print(len(X_train),'+',len(X_test),'=',len(y_train)+len(y_test))"
   ]
  },
  {
   "cell_type": "markdown",
   "id": "bd8ac24c",
   "metadata": {},
   "source": [
    "## MODEL SELECTION\n",
    "\n",
    "Selecting different (ML) algorithms and choosing which best fits our data.\n",
    "\n",
    "1. DECISION TREE\n",
    "2.  RANDOM FOREST\n",
    "3.  LINEAR REGRESSION"
   ]
  },
  {
   "cell_type": "markdown",
   "id": "674712f9",
   "metadata": {},
   "source": [
    "### I.  DECISION TREE"
   ]
  },
  {
   "cell_type": "code",
   "execution_count": null,
   "id": "d985ebf8",
   "metadata": {},
   "outputs": [],
   "source": [
    "# Create Decision Tree regressor object\n",
    "tree_reg = DecisionTreeRegressor(random_state=42,\n",
    "                                 max_depth=3)\n",
    "\n",
    "#Feeding the train data to our model, so it can figure out how it should make its predictions in the future on new data.\n",
    "tree_reg.fit(X_train, y_train)"
   ]
  },
  {
   "cell_type": "code",
   "execution_count": null,
   "id": "8a33c0ca",
   "metadata": {},
   "outputs": [],
   "source": [
    "#Instructing our model to predict future player values. \n",
    "y_pred = tree_reg.predict(X_test)\n",
    "\n",
    "print('Mean Absolute Error:', metrics.mean_absolute_error(y_test, y_pred))\n",
    "print('Mean Squared Error:', metrics.mean_squared_error(y_test, y_pred))\n",
    "print('Root Mean Squared Error:', np.sqrt(metrics.mean_squared_error(y_test, y_pred)))\n",
    "print('RSquared:', metrics.r2_score(y_test, y_pred))"
   ]
  },
  {
   "cell_type": "code",
   "execution_count": null,
   "id": "7edaf666",
   "metadata": {},
   "outputs": [],
   "source": [
    "# plot the decision tree\n",
    "plt.figure(figsize=(20,15))\n",
    "plot_tree(tree_reg, filled=True, feature_names=X.columns)\n",
    "plt.show()"
   ]
  },
  {
   "cell_type": "markdown",
   "id": "f98e6240",
   "metadata": {},
   "source": [
    "### II.  RANDOM FOREST"
   ]
  },
  {
   "cell_type": "code",
   "execution_count": null,
   "id": "9b222ea6",
   "metadata": {},
   "outputs": [],
   "source": [
    "# Initializing the Random Forest Regression model with 10 decision trees\n",
    "forest_reg = RandomForestRegressor(n_estimators = 5, random_state = 42, max_depth=2)\n",
    "\n",
    "# Fitting the Random Forest Regression model to the data\n",
    "forest_reg.fit(X_train, y_train)"
   ]
  },
  {
   "cell_type": "code",
   "execution_count": null,
   "id": "30a92783",
   "metadata": {},
   "outputs": [],
   "source": [
    "y_pred = forest_reg.predict(X_test)\n",
    "\n",
    "print('Mean Absolute Error:', mean_absolute_error(y_test, y_pred))\n",
    "print('Mean Squared Error:', mean_squared_error(y_test, y_pred))\n",
    "print('Root Mean Squared Error:', np.sqrt(mean_squared_error(y_test, y_pred)))\n",
    "print('RSquared:', r2_score(y_test, y_pred))"
   ]
  },
  {
   "cell_type": "code",
   "execution_count": null,
   "id": "f7de3b3d",
   "metadata": {},
   "outputs": [],
   "source": [
    "features = X.columns\n",
    "\n",
    "# Obtain just the first tree\n",
    "first_tree = forest_reg.estimators_[0]\n",
    "\n",
    "plt.figure(figsize=(20,15))\n",
    "tree.plot_tree(first_tree,\n",
    "               feature_names=features,\n",
    "               fontsize=8, \n",
    "               filled=True, \n",
    "               rounded=True\n",
    "               );"
   ]
  },
  {
   "cell_type": "markdown",
   "id": "ac0141fd",
   "metadata": {},
   "source": [
    "### III. LINEAR REGRESSION"
   ]
  },
  {
   "cell_type": "code",
   "execution_count": null,
   "id": "7350933c",
   "metadata": {},
   "outputs": [],
   "source": [
    "lin_reg = LinearRegression() #Instantiate linear regression object\n",
    "lin_reg.fit(X_train, y_train) #Fit the model"
   ]
  },
  {
   "cell_type": "code",
   "execution_count": null,
   "id": "9529db3d",
   "metadata": {},
   "outputs": [],
   "source": [
    "#Getting the coefficients\n",
    "lin_reg.coef_"
   ]
  },
  {
   "cell_type": "code",
   "execution_count": null,
   "id": "3e743e15",
   "metadata": {},
   "outputs": [],
   "source": [
    "#Intercept\n",
    "lin_reg.intercept_"
   ]
  },
  {
   "cell_type": "code",
   "execution_count": null,
   "id": "2d788504",
   "metadata": {},
   "outputs": [],
   "source": [
    "#Let's find the intercept and co-efficient for each column in our training dataset.\n",
    "#Slope and intercept values\n",
    "pd.DataFrame(data = np.append(lin_reg.intercept_ , lin_reg.coef_),\n",
    "index = ['Intercept']+[col+\" Coef.\" for col in X.columns],\n",
    "columns=['value_euro']).sort_values('value_euro', ascending=False)"
   ]
  },
  {
   "cell_type": "markdown",
   "id": "6e6e2006",
   "metadata": {},
   "source": [
    "`Interpreting Linear Regression Coefficients`\n",
    "\n",
    "\n",
    "A positive coefficient indicates that as the value of the independent variable increases, the mean of the dependent variable also tends to increase. A negative coefficient suggests that as the independent variable increases, the dependent variable tends to decrease"
   ]
  },
  {
   "cell_type": "code",
   "execution_count": null,
   "id": "45637870",
   "metadata": {},
   "outputs": [],
   "source": [
    "# Regression line formula: y = mx + b\n",
    "# Where y:\n",
    "#       Is the predicted target label.\n",
    "#       m:\n",
    "#       Is the slope of the line.\n",
    "#       b:\n",
    "#       Is the y intercept."
   ]
  },
  {
   "cell_type": "code",
   "execution_count": null,
   "id": "3673333b",
   "metadata": {},
   "outputs": [],
   "source": [
    "#Predicting the output of new observations with the trained model.\n",
    "y_pred = lin_reg.predict(X_test)\n",
    "\n",
    "#Predict the output of new observations with the trained model.\n",
    "print('Mean Absolute Error:', mean_absolute_error(y_test, y_pred))\n",
    "print('Mean Squared Error:', mean_squared_error(y_test, y_pred))\n",
    "print('Root Mean Squared Error:', np.sqrt(mean_squared_error(y_test, y_pred)))\n",
    "print('RSquared:', r2_score(y_test, y_pred))"
   ]
  },
  {
   "cell_type": "code",
   "execution_count": null,
   "id": "a7b7f0eb",
   "metadata": {},
   "outputs": [],
   "source": [
    "y_pred"
   ]
  },
  {
   "cell_type": "code",
   "execution_count": null,
   "id": "d91c5ca1",
   "metadata": {
    "scrolled": false
   },
   "outputs": [],
   "source": [
    "#Best fit line\n",
    "plt.scatter(y_test, y_pred, label=\"Test data\", color='red', alpha=0.5)\n",
    "plt.plot([min(y), max(y)], [min(y), max(y)], color='black')\n",
    "plt.xlabel(\"value_euro\")\n",
    "plt.ylabel(\"value_prediction\")\n",
    "plt.title(\"Real Values vs predictions (Linear Regression)\")\n",
    "plt.legend()\n",
    "plt.grid()\n",
    "plt.show()"
   ]
  },
  {
   "cell_type": "code",
   "execution_count": null,
   "id": "da418cd2",
   "metadata": {},
   "outputs": [],
   "source": []
  },
  {
   "cell_type": "markdown",
   "id": "0caaeda8",
   "metadata": {},
   "source": [
    "---\n",
    "<h1 style='background:cornflowerblue;\n",
    "           border:0;\n",
    "           color:black'>\n",
    "    <center>\n",
    "        8. MODEL EVALUATION\n",
    "    </center>\n",
    "</h1>\n",
    "\n",
    "---"
   ]
  },
  {
   "cell_type": "code",
   "execution_count": null,
   "id": "22c4bb1d",
   "metadata": {},
   "outputs": [],
   "source": [
    "#Creating a statistical dataframe for all models (Model,R2 Score, RMSE, MAE, MSE) \n",
    "models = [lin_reg, tree_reg, forest_reg]\n",
    "overral=pd.DataFrame(columns=[\"Model Name\",\"RSquared\", \"RMSE\", \"MAE\", \"MSE\"])\n",
    "\n",
    "for model in models:\n",
    "    model.fit(X_train,y_train)\n",
    "    y_pred = model.predict(X_test)\n",
    "    r2=r2_score(y_test, y_pred)\n",
    "    rmse=np.sqrt(mean_squared_error(y_test, y_pred))\n",
    "    mae=mean_absolute_error(y_test, y_pred)\n",
    "    mse=mean_squared_error(y_test, y_pred)\n",
    "    \n",
    "    overral=overral.append({\"Model Name\":model.__class__.__name__, \"RSquared\":r2, \"RMSE\":rmse, \"MAE\":mae, \"MSE\":mse},ignore_index=True)\n",
    "\n",
    "#Sorting by ascending\n",
    "overral = overral.sort_values(by=\"RSquared\", ascending=False)\n",
    "overral"
   ]
  },
  {
   "cell_type": "code",
   "execution_count": null,
   "id": "bc99a0cf",
   "metadata": {},
   "outputs": [],
   "source": [
    "#Assuming we have trained our model and obtained predictions on the testing dataset\n",
    "predictions_reg = lin_reg.predict(X_test)\n",
    "predictions_tree = tree_reg.predict(X_test)\n",
    "predictions_forest = forest_reg.predict(X_test)\n",
    "\n",
    "# Create a new DataFrame for predictions and actual values\n",
    "results_df = pd.DataFrame({'predicted market value (Linear Regression)': predictions_reg,\n",
    "                           'predicted market value (Decision Tree)':predictions_tree,\n",
    "                           'predicted market value (Random Forest)': predictions_forest,\n",
    "                           'value_euro': y_test})\n",
    "\n",
    "#New dataFrame for 3 models comparing the actual values and predicted values:.\n",
    "results_df.head(5)"
   ]
  },
  {
   "cell_type": "markdown",
   "id": "753e2691",
   "metadata": {},
   "source": [
    "### MEASURE OF ERRORS VISUALIZATION"
   ]
  },
  {
   "cell_type": "code",
   "execution_count": null,
   "id": "2cff23a8",
   "metadata": {},
   "outputs": [],
   "source": [
    "#Graph of Coefficient of Determination (RSquared) for all Models\n",
    "fig = px.bar(overral,\n",
    "             x=\"RSquared\",\n",
    "             y='Model Name',\n",
    "             #color='RMSE',\n",
    "             title=\"Coefficient of Determination (RSquared) for all Models\")\n",
    "fig.show()"
   ]
  },
  {
   "cell_type": "code",
   "execution_count": null,
   "id": "219ea3d8",
   "metadata": {},
   "outputs": [],
   "source": [
    "#Graph of number of players, preferred foot and positions\n",
    "fig = px.bar(overral,\n",
    "             x=\"RMSE\",\n",
    "             y='Model Name',\n",
    "             title=\"Root Mean Squared Error across all Models\")\n",
    "fig.show()"
   ]
  },
  {
   "cell_type": "code",
   "execution_count": null,
   "id": "0a72a625",
   "metadata": {},
   "outputs": [],
   "source": [
    "#Graph of Mean Absolute Error across all Model\n",
    "fig = px.bar(overral,\n",
    "             x=\"MAE\",\n",
    "             y='Model Name',\n",
    "             title=\"Mean Absolute Error across all Models\")\n",
    "fig.show()"
   ]
  },
  {
   "cell_type": "code",
   "execution_count": null,
   "id": "f514ee23",
   "metadata": {},
   "outputs": [],
   "source": [
    "#Graph of Mean Squared Error across all Models\n",
    "fig = px.bar(overral,\n",
    "             x=\"MSE\",\n",
    "             y='Model Name',\n",
    "             title=\"Mean Squared Error across all Models\")\n",
    "fig.show()"
   ]
  },
  {
   "cell_type": "markdown",
   "id": "2e8c78a8",
   "metadata": {},
   "source": [
    "---\n",
    "<h1 style='background:cornflowerblue;\n",
    "           border:0;\n",
    "           color:black'>\n",
    "    <center>\n",
    "        9. MODEL RESULTS\n",
    "    </center>\n",
    "</h1>\n",
    "\n",
    "---"
   ]
  },
  {
   "cell_type": "markdown",
   "id": "db9a3e74",
   "metadata": {},
   "source": [
    "### MODEL TUNING USING"
   ]
  },
  {
   "cell_type": "markdown",
   "id": "4cf5d1ae",
   "metadata": {},
   "source": [
    "#### GRADIENT BOOSTING REGRESSOR"
   ]
  },
  {
   "cell_type": "code",
   "execution_count": null,
   "id": "6cccbd0e",
   "metadata": {},
   "outputs": [],
   "source": [
    "#Creating a GBR object\n",
    "GBR = GradientBoostingRegressor()"
   ]
  },
  {
   "cell_type": "code",
   "execution_count": null,
   "id": "93640410",
   "metadata": {},
   "outputs": [],
   "source": [
    "#making an dictionary called parameters in which we have four parameters\n",
    "parameters = {'learning_rate': [0.01,0.02,0.03,0.04],\n",
    "                  'subsample'    : [0.9, 0.5, 0.2, 0.1],\n",
    "                  'n_estimators' : [100,500,1000, 1500],\n",
    "                  'max_depth'    : [4,6,8,10]\n",
    "                 }"
   ]
  },
  {
   "cell_type": "code",
   "execution_count": null,
   "id": "f0150c65",
   "metadata": {},
   "outputs": [],
   "source": [
    "#Making an object grid_GBR for GridSearchCV and fitting the dataset\n",
    "grid_GBR = GridSearchCV(estimator=GBR, param_grid = parameters, cv = 2, n_jobs=-1)\n",
    "grid_GBR.fit(X_train, y_train)"
   ]
  },
  {
   "cell_type": "code",
   "execution_count": null,
   "id": "3c2c9f53",
   "metadata": {},
   "outputs": [],
   "source": [
    "#Printing all results\n",
    "print(\" Results from Grid Search \" )\n",
    "print(\"\\n The best estimator across ALL searched params:\\n\",grid_GBR.best_estimator_)\n",
    "print(\"\\n The best parameters across ALL searched params:\\n\",grid_GBR.best_params_)\n",
    "print(\"\\n The best GridSearchCV score across ALL searched params:\\n\",grid_GBR.best_score_)"
   ]
  },
  {
   "cell_type": "code",
   "execution_count": null,
   "id": "5980709c",
   "metadata": {},
   "outputs": [],
   "source": [
    "#Creating a statistical dataframe for all models including GBR (Model,R2 Score, RMSE, MAE, MSE) \n",
    "models = [lin_reg, tree_reg, forest_reg, GBR]\n",
    "overral=pd.DataFrame(columns=[\"Model Name\",\"RSquared\", \"RMSE\", \"MAE\", \"MSE\"])\n",
    "\n",
    "for model in models:\n",
    "    model.fit(X_train,y_train)\n",
    "    y_pred = model.predict(X_test)\n",
    "    r2=r2_score(y_test, y_pred)\n",
    "    rmse=np.sqrt(mean_squared_error(y_test, y_pred))\n",
    "    mae=mean_absolute_error(y_test, y_pred)\n",
    "    mse=mean_squared_error(y_test, y_pred)\n",
    "    \n",
    "    overral=overral.append({\"Model Name\":model.__class__.__name__, \"RSquared\":r2, \"RMSE\":rmse, \"MAE\":mae, \"MSE\":mse},ignore_index=True)\n",
    "\n",
    "#Sorting by ascending\n",
    "overral = overral.sort_values(by=\"RSquared\", ascending=False)\n",
    "overral"
   ]
  },
  {
   "cell_type": "markdown",
   "id": "2156c7c2",
   "metadata": {},
   "source": [
    "### FEATURE SELECTION"
   ]
  },
  {
   "cell_type": "markdown",
   "id": "7cb8b8c7",
   "metadata": {},
   "source": [
    "### 1. MEAN DECREASE IN IMPURIRTY (MDI)"
   ]
  },
  {
   "cell_type": "markdown",
   "id": "9e56b2f9",
   "metadata": {},
   "source": [
    "Feature Importance to help us understand which features were the most influential in making predictions."
   ]
  },
  {
   "cell_type": "markdown",
   "id": "8a4cd363",
   "metadata": {},
   "source": [
    "#### a). DECISION TREE FEATURE IMPORTANCE"
   ]
  },
  {
   "cell_type": "code",
   "execution_count": null,
   "id": "b687e945",
   "metadata": {},
   "outputs": [],
   "source": [
    "# Get feature importances for Tree Regression\n",
    "importances = tree_reg.feature_importances_\n",
    "\n",
    "# Sort feature importances in descending order\n",
    "indices = np.argsort(importances)[::-1]\n",
    "\n",
    "# Plot feature importances\n",
    "plt.figure(figsize=(10, 6))\n",
    "plt.title(\"Tree Regression Feature Importances (MDI)\")\n",
    "plt.bar(range(X_train.shape[1]), importances[indices], align='center')\n",
    "plt.xticks(range(X_train.shape[1]), X_train.columns[indices], rotation=90)\n",
    "plt.tight_layout()\n",
    "plt.show()\n",
    "\n",
    "#Feature importance in percentages\n",
    "importances = tree_reg.feature_importances_\n",
    "columns = X. columns\n",
    "i = 0\n",
    "while i < len(columns):\n",
    "    print (f\" Feature Importance: '{columns [i]}' = {round(importances [i] * 100, 2)}%.\")\n",
    "    i += 1"
   ]
  },
  {
   "cell_type": "markdown",
   "id": "a32e9b12",
   "metadata": {},
   "source": [
    "#### b). RANDOM FOREST FEATUTRE IMPORTANCE"
   ]
  },
  {
   "cell_type": "code",
   "execution_count": null,
   "id": "0221d95f",
   "metadata": {},
   "outputs": [],
   "source": [
    "# Get feature importances for RandomForest\n",
    "importances = forest_reg.feature_importances_\n",
    "\n",
    "# Sort feature importances in descending order\n",
    "indices = np.argsort(importances)[::-1]\n",
    "\n",
    "# Plot feature importances\n",
    "plt.figure(figsize=(10, 6))\n",
    "plt.title(\"Random Forest Feature Importances (MDI)\")\n",
    "plt.bar(range(X_train.shape[1]), importances[indices], align='center')\n",
    "plt.xticks(range(X_train.shape[1]), X_train.columns[indices], rotation=90)\n",
    "plt.tight_layout()\n",
    "plt.show()\n",
    "\n",
    "#Feature importance in percentages\n",
    "columns = X. columns\n",
    "i = 0\n",
    "while i < len(columns):\n",
    "    print (f\" Feature Importance: '{columns [i]}' = {round(importances [i] * 100, 2)}%.\")\n",
    "    i += 1"
   ]
  },
  {
   "cell_type": "markdown",
   "id": "8a683d13",
   "metadata": {},
   "source": [
    "### 2. ORDINARY LEAST SQUARE (OLS) Model FOR LINEAR REGRESSION"
   ]
  },
  {
   "cell_type": "code",
   "execution_count": null,
   "id": "40dfbc98",
   "metadata": {},
   "outputs": [],
   "source": [
    "#Constant\n",
    "X = sm.add_constant(X)\n",
    "\n",
    "#Statistical summary of our prediction\n",
    "lin_reg_model = sm.OLS(y, X).fit()\n",
    "lin_reg_model.summary()"
   ]
  },
  {
   "cell_type": "code",
   "execution_count": null,
   "id": "abd92818",
   "metadata": {},
   "outputs": [],
   "source": [
    "#Printing RSquare and Adjusted RSquare\n",
    "print(\"Adjusted RSquare: \", lin_reg_model.rsquared_adj)\n",
    "print(\"RSquare: \", lin_reg_model.rsquared)"
   ]
  },
  {
   "cell_type": "markdown",
   "id": "a9f94eb7",
   "metadata": {},
   "source": [
    "---\n",
    "<h1 style='background:cornflowerblue;\n",
    "           border:0;\n",
    "           color:black'>\n",
    "    <center>\n",
    "       10. REFERENCES:\n",
    "    </center>\n",
    "</h1>\n",
    "\n",
    "---\n",
    "\n",
    "1. https://towardsdatascience.com/simple-football-data-set-exploration-with-pandas-60a2bc56bd5a\n",
    "\n",
    "\n",
    "2. https://www.geeksforgeeks.org/python-pandas-dataframe-corr/\n",
    "\n",
    "\n",
    "3. https://www.statology.org/pandas-add-count-column/\n",
    "\n",
    "\n",
    "4. https://plotly.com/python/plotly-express/\n",
    "\n",
    "\n",
    "5. https://www.datatechnotes.com/2019/10/accuracy-check-in-python-mae-mse-rmse-r.html\n",
    "\n",
    "\n",
    "6. https://sp-selvan.medium.com/split-data-set-to-train-the-model-decision-tree-regressor-18469de05466\n",
    "\n",
    "\n",
    "7. https://sp-selvan.medium.com/split-data-set-to-train-the-model-decision-tree-regressor-18469de05466\n",
    "\n",
    "\n",
    "8. https://stackabuse.com/random-forest-algorithm-with-python-and-scikit-learn/\n",
    "\n",
    "\n",
    "9. https://data36.com/regression-tree-python-scikit-learn/\n",
    "\n",
    "\n",
    "10. https://saturncloud.io/blog/how-to-detect-and-exclude-outliers-in-a-pandas-dataframe/#:~:text=To%20exclude%20outliers%20from%20our,the%20rows%20containing%20the%20outliers.\n",
    "\n",
    "\n",
    "11. https://www.relataly.com/hyperparameter-tuning-with-grid-search/2261/"
   ]
  }
 ],
 "metadata": {
  "kernelspec": {
   "display_name": "Python 3 (ipykernel)",
   "language": "python",
   "name": "python3"
  },
  "language_info": {
   "codemirror_mode": {
    "name": "ipython",
    "version": 3
   },
   "file_extension": ".py",
   "mimetype": "text/x-python",
   "name": "python",
   "nbconvert_exporter": "python",
   "pygments_lexer": "ipython3",
   "version": "3.9.13"
  }
 },
 "nbformat": 4,
 "nbformat_minor": 5
}
